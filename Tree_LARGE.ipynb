{
 "cells": [
  {
   "cell_type": "code",
   "execution_count": 1,
   "metadata": {},
   "outputs": [
    {
     "data": {
      "application/javascript": [
       "require(['codemirror/mode/clike/clike'], function(Clike) { console.log('ROOTaaS - C++ CodeMirror module loaded'); });"
      ]
     },
     "metadata": {},
     "output_type": "display_data"
    },
    {
     "data": {
      "application/javascript": [
       "IPython.CodeCell.config_defaults.highlight_modes['magic_text/x-c++src'] = {'reg':[/^%%cpp/]};"
      ]
     },
     "metadata": {},
     "output_type": "display_data"
    },
    {
     "name": "stdout",
     "output_type": "stream",
     "text": [
      "Welcome to ROOTaaS 6.06/02\n",
      "42\n"
     ]
    }
   ],
   "source": [
    "import numpy as np\n",
    "import pandas as pd\n",
    "import seaborn as sns\n",
    "import matplotlib.pyplot as plt\n",
    "from root_numpy import root2array, rec2array\n",
    "\n",
    "branch_names = '''momentumx, momentumy,momentumz,momentum,energy,position,MvdDEDX,MvdHits,SttMeanDEDX,SttHits,GemHits,TofStopTime,\n",
    "TofM2,TofTrackLength,TofQuality,TofBeta,DrcThetaC,DrcQuality,\n",
    "DiscThetaC,DiscQuality,\n",
    "EmcRawEnergy,EmcCalEnergy,EmcQuality,EmcNumberOfCrystals,EmcNumberOfBumps,EmcModule,\n",
    "EmcZ20,EmcZ53,EmcLat,EmcE1,EmcE9,EmcE25,MuoQuality,MuoIron,MuoMomentumIn,MuoNumberOfLayers,MuoModule,MuoHits,\n",
    "DegreesOfFreedom,ChiSquared'''.split(\",\")\n",
    "\n",
    "branch_names = [c.strip() for c in branch_names]\n",
    "branch_names = list(branch_names)\n",
    "###################################################################################\n",
    "\n",
    "electrons = root2array('/home/wesmail/Downloads/150k/electron_150k_tree.root', 't1', branch_names)\n",
    "electrons = rec2array(electrons)\n",
    "\n",
    "pions = root2array('/home/wesmail/Downloads/150k/pion_150k_tree.root', 't1', branch_names)\n",
    "pions = rec2array(pions)\n",
    "\n",
    "muons = root2array('/home/wesmail/Downloads/150k/muon_150k_tree.root', 't1', branch_names)\n",
    "muons = rec2array(muons)\n",
    "\n",
    "kaons = root2array('/home/wesmail/Downloads/150k/kaon_150k_tree.root', 't1', branch_names)\n",
    "kaons = rec2array(kaons)\n",
    "\n",
    "anti_p = root2array('/home/wesmail/Downloads/150k/proton_150k_tree.root', 't1', branch_names)\n",
    "anti_p = rec2array(anti_p)\n",
    "\n",
    "###################################################################################\n",
    "X = np.concatenate((electrons, pions, muons, kaons, anti_p))\n",
    "y = np.concatenate(( np.zeros(electrons.shape[0]),np.ones(pions.shape[0]), (2*np.ones(muons.shape[0])), (3*np.ones(kaons.shape[0])), (4*np.ones(anti_p.shape[0])) ))\n",
    "df = pd.DataFrame(np.hstack((X, y.reshape(y.shape[0], -1))),columns=branch_names+['temp'])\n",
    "\n",
    "# added features\n",
    "#df['E1/E9'] = df.loc[:,'EmcE1']/df.loc[:,'EmcE9']\n",
    "#df['E9/E25'] = df.loc[:,'EmcE9']/df.loc[:,'EmcE25']\n",
    "#df['E1/E25'] = df.loc[:,'EmcE1']/df.loc[:,'EmcE25']\n",
    "df['E/p'] = df.loc[:,'EmcCalEnergy']/df.loc[:,'momentum']\n",
    "df['labels'] = df.loc[:,'temp']\n",
    "df = df.drop(['temp'], axis=1)\n",
    "\n",
    "df = df.dropna()\n",
    "print(len(df.columns))"
   ]
  },
  {
   "cell_type": "code",
   "execution_count": 2,
   "metadata": {},
   "outputs": [
    {
     "name": "stdout",
     "output_type": "stream",
     "text": [
      "CPU times: user 1min 55s, sys: 43.2 ms, total: 1min 55s\n",
      "Wall time: 33.8 s\n",
      "accuracy on training set: 89.25%\n",
      "accuracy on testing set : 85.95%\n"
     ]
    }
   ],
   "source": [
    "from sklearn.model_selection import train_test_split\n",
    "from sklearn.preprocessing import StandardScaler\n",
    "from sklearn.ensemble import RandomForestClassifier\n",
    "from sklearn.model_selection import cross_val_score, cross_val_predict\n",
    "\n",
    "X_train,X_test, y_train,y_test = train_test_split(df.iloc[:,0:-1], df.iloc[:,-1], stratify=df.iloc[:,-1], test_size=0.30, random_state=0)\n",
    "#scaler = StandardScaler()\n",
    "#X_train = scaler.fit_transform(X_train)\n",
    "#X_test = scaler.fit_transform(X_test)\n",
    "\n",
    "bdt = RandomForestClassifier(n_estimators=10, max_depth=15, max_features=35, random_state=0, n_jobs=4)\n",
    "%time model = bdt.fit(X_train, y_train)\n",
    "print('accuracy on training set: %.2f' % (model.score(X_train, y_train)*100) + '%')\n",
    "print('accuracy on testing set : %.2f' % (model.score(X_test, y_test)*100) + '%')\n",
    "\n",
    "import matplotlib.pyplot as plt\n",
    "%matplotlib tk"
   ]
  },
  {
   "cell_type": "code",
   "execution_count": null,
   "metadata": {},
   "outputs": [],
   "source": [
    "import numpy as np\n",
    "import pandas as pd\n",
    "import seaborn as sns\n",
    "import matplotlib.pyplot as plt\n",
    "from root_numpy import root2array, rec2array\n",
    "\n",
    "branch_names = '''momentumx, momentumy,momentumz,momentum,energy,position,MvdDEDX,MvdHits,SttMeanDEDX,SttHits,GemHits,TofStopTime,\n",
    "TofM2,TofTrackLength,TofQuality,TofBeta,DrcThetaC,DrcQuality,\n",
    "DiscThetaC,DiscQuality,\n",
    "EmcRawEnergy,EmcCalEnergy,EmcQuality,EmcNumberOfCrystals,EmcNumberOfBumps,EmcModule,\n",
    "EmcZ20,EmcZ53,EmcLat,EmcE1,EmcE9,EmcE25,MuoQuality,MuoIron,MuoMomentumIn,MuoNumberOfLayers,MuoModule,MuoHits,\n",
    "DegreesOfFreedom,ChiSquared'''.split(\",\")\n",
    "\n",
    "branch_names = [c.strip() for c in branch_names]\n",
    "branch_names = list(branch_names)\n",
    "###################################################################################\n",
    "\n",
    "electronsp = root2array('/home/wesmail/Downloads/150k/plus/Pelectron_theta_150k_tree.root', 't1', branch_names)\n",
    "electronsp = rec2array(electronsp)\n",
    "\n",
    "pionsp = root2array('/home/wesmail/Downloads/150k/plus/Ppion_theta_150k_tree.root', 't1', branch_names)\n",
    "pionsp = rec2array(pionsp)\n",
    "\n",
    "muonsp = root2array('/home/wesmail/Downloads/150k/plus/Pmuon_theta_150k_tree.root', 't1', branch_names)\n",
    "muonsp = rec2array(muonsp)\n",
    "\n",
    "kaonsp = root2array('/home/wesmail/Downloads/150k/plus/Pkaon_theta_150k_tree.root', 't1', branch_names)\n",
    "kaonsp = rec2array(kaonsp)\n",
    "\n",
    "anti_pp = root2array('/home/wesmail/Downloads/150k/plus/Pproton_theta_150k_tree.root', 't1', branch_names)\n",
    "anti_pp = rec2array(anti_pp)\n",
    "\n",
    "###################################################################################\n",
    "Xp = np.concatenate((electronsp, pionsp, muonsp, kaonsp, anti_pp))\n",
    "yp = np.concatenate(( np.zeros(electronsp.shape[0]),np.ones(pionsp.shape[0]), (2*np.ones(muonsp.shape[0])), (3*np.ones(kaonsp.shape[0])), (4*np.ones(anti_pp.shape[0])) ))\n",
    "dfp = pd.DataFrame(np.hstack((Xp, yp.reshape(yp.shape[0], -1))),columns=branch_names+['temp'])\n",
    "\n",
    "# added features\n",
    "dfp['E1/E9'] = dfp.loc[:,'EmcE1']/dfp.loc[:,'EmcE9']\n",
    "dfp['E9/E25'] = dfp.loc[:,'EmcE9']/dfp.loc[:,'EmcE25']\n",
    "dfp['E1/E25'] = dfp.loc[:,'EmcE1']/dfp.loc[:,'EmcE25']\n",
    "dfp['E/p'] = dfp.loc[:,'EmcCalEnergy']/dfp.loc[:,'momentum']\n",
    "dfp['labels'] = dfp.loc[:,'temp']\n",
    "dfp = dfp.drop(['temp'], axis=1)\n",
    "\n",
    "dfp = dfp.dropna()"
   ]
  },
  {
   "cell_type": "code",
   "execution_count": 7,
   "metadata": {},
   "outputs": [
    {
     "data": {
      "text/plain": [
       "<matplotlib.text.Text at 0x7fb362d70a10>"
      ]
     },
     "execution_count": 7,
     "metadata": {},
     "output_type": "execute_result"
    }
   ],
   "source": [
    "model.classes_\n",
    "from sklearn.metrics import confusion_matrix\n",
    "import matplotlib.ticker as ticker\n",
    "import matplotlib.pyplot as plt\n",
    "import seaborn as sns\n",
    "\n",
    "figcm, ax = plt.subplots()\n",
    "y_predicted = model.predict(X_test)\n",
    "cm = confusion_matrix(y_test, y_predicted)\n",
    "cm = np.round((cm.astype('float') / cm.sum(axis=1)), decimals=2)\n",
    "sns.set(font_scale=2.0)\n",
    "sns.heatmap(cm, square=True, annot=True, annot_kws={\"size\": 22}, cmap='Blues')\n",
    "#sns.heatmap(cm, square=True, annot=True, cbar=False, annot_kws={\"size\": 20})\n",
    "classes=['$e^{-}$', '$\\pi^{-}$', '$\\mu^{-}$', '$k^{-}$', '$\\overline{p}$'] # 0 1 2 3 4 output of 'model.classes_'\n",
    "tick_marks = np.arange(len(classes))\n",
    "plt.xticks(tick_marks, classes, rotation=90)\n",
    "ax.set_xticks(np.arange(len(classes))+0.5, minor=False)\n",
    "plt.yticks(tick_marks, classes)\n",
    "ax.set_yticks(np.arange(len(classes))+0.5, minor=False)\n",
    "plt.xlabel('Predication', horizontalalignment = 'center',  fontsize=22)\n",
    "plt.ylabel('True Species',  fontsize=22)\n",
    "plt.title('Particles',  fontsize=22)"
   ]
  },
  {
   "cell_type": "code",
   "execution_count": 6,
   "metadata": {},
   "outputs": [
    {
     "data": {
      "text/plain": [
       "<matplotlib.legend.Legend at 0x7f8284549290>"
      ]
     },
     "execution_count": 6,
     "metadata": {},
     "output_type": "execute_result"
    }
   ],
   "source": [
    "# Compute ROC curve and ROC area for each class\n",
    "from sklearn.metrics import roc_curve, auc\n",
    "y_score = model.predict_proba(X_test)\n",
    "from sklearn.preprocessing import label_binarize\n",
    "y_test = label_binarize(y_test, classes=[0, 1, 2, 3, 4])\n",
    "n_classes = y_test.shape[1]\n",
    "import matplotlib.pyplot as plt\n",
    "%matplotlib tk\n",
    "\n",
    "lw=2\n",
    "fpr = dict()\n",
    "tpr = dict()\n",
    "roc_auc = dict()\n",
    "for i in range(n_classes):\n",
    "    fpr[i], tpr[i], _ = roc_curve(y_test[:, i], y_score[:, i])\n",
    "    roc_auc[i] = auc(fpr[i], tpr[i])\n",
    "\n",
    "from itertools import cycle\n",
    "\n",
    "plt.plot(fpr[0], tpr[0], color='aqua', lw=lw, label='ROC for {0} (area = {1:0.2f})'.format('$e^{-}$',roc_auc[0]))\n",
    "plt.plot(fpr[1], tpr[1], color='darkorange', lw=lw, label='ROC for {0} (area = {1:0.2f})'.format('$\\pi^{-}$',roc_auc[1]))\n",
    "plt.plot(fpr[2], tpr[2], color='cornflowerblue', lw=lw, label='ROC for {0} (area = {1:0.2f})'.format('$\\mu^{-}$',roc_auc[2]))\n",
    "plt.plot(fpr[3], tpr[3], color='black', lw=lw, label='ROC for {0} (area = {1:0.2f})'.format('$k^{-}$',roc_auc[3]))\n",
    "plt.plot(fpr[4], tpr[4], color='green', lw=lw, label='ROC for {0}   (area = {1:0.2f})'.format('$\\overline{p}$',roc_auc[4]))\n",
    "\n",
    "plt.xlim([0.0, 0.5])\n",
    "plt.ylim([0.5, 1.0])\n",
    "plt.xlabel('False Positive Rate', fontsize=22)\n",
    "plt.ylabel('True Positive Rate', fontsize=22)\n",
    "plt.title('Receiver Operating Characteristic (ROC)')\n",
    "plt.legend(loc='lower right', fontsize=22)    "
   ]
  }
 ],
 "metadata": {
  "kernelspec": {
   "display_name": "Python 2",
   "language": "python",
   "name": "python2"
  },
  "language_info": {
   "codemirror_mode": {
    "name": "ipython",
    "version": 2
   },
   "file_extension": ".py",
   "mimetype": "text/x-python",
   "name": "python",
   "nbconvert_exporter": "python",
   "pygments_lexer": "ipython2",
   "version": "2.7.12"
  }
 },
 "nbformat": 4,
 "nbformat_minor": 2
}
